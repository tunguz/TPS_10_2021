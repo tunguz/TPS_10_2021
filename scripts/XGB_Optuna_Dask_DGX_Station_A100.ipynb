{
 "cells": [
  {
   "cell_type": "code",
   "execution_count": 1,
   "id": "a52a8b4c-b19a-4010-9092-d314ef6c293e",
   "metadata": {},
   "outputs": [],
   "source": [
    "import os\n",
    "#os.environ[\"CUDA_DEVICE_ORDER\"]=\"PCI_BUS_ID\"\n",
    "#os.environ[\"CUDA_VISIBLE_DEVICES\"]=\"0, 1, 2, 4\""
   ]
  },
  {
   "cell_type": "code",
   "execution_count": 2,
   "id": "0b979dec-4e83-4d70-a484-c9599d363049",
   "metadata": {},
   "outputs": [
    {
     "name": "stderr",
     "output_type": "stream",
     "text": [
      "/home/tunguz/.local/lib/python3.8/site-packages/tqdm/auto.py:22: TqdmWarning: IProgress not found. Please update jupyter and ipywidgets. See https://ipywidgets.readthedocs.io/en/stable/user_install.html\n",
      "  from .autonotebook import tqdm as notebook_tqdm\n"
     ]
    },
    {
     "data": {
      "text/plain": [
       "'1.6.0rc1'"
      ]
     },
     "execution_count": 2,
     "metadata": {},
     "output_type": "execute_result"
    }
   ],
   "source": [
    "from dask.distributed import Client\n",
    "from dask_cuda import LocalCUDACluster\n",
    "from dask import dataframe as dd\n",
    "import pandas as pd\n",
    "import xgboost as xgb\n",
    "from sklearn.model_selection import KFold, train_test_split\n",
    "from sklearn.metrics import roc_auc_score\n",
    "import optuna\n",
    "import gc\n",
    "xgb.__version__"
   ]
  },
  {
   "cell_type": "code",
   "execution_count": 3,
   "id": "9a07f0e0-110d-4792-91fc-1f5647526545",
   "metadata": {},
   "outputs": [],
   "source": [
    "train_x = dd.read_csv('../../TPS_2021/input/tabular-playground-series-oct-2021/xgtrain.csv')\n",
    "test_x = dd.read_csv('../../TPS_2021/input/tabular-playground-series-oct-2021/xgval.csv')"
   ]
  },
  {
   "cell_type": "code",
   "execution_count": 4,
   "id": "6f0cb233-a77d-45b1-ad1d-e8e5eeb796f7",
   "metadata": {},
   "outputs": [],
   "source": [
    "train_y = train_x['target']\n",
    "train_x = train_x[train_x.columns.difference(['target'])]\n",
    "\n",
    "test_y = test_x['target']\n",
    "test_x = test_x[test_x.columns.difference(['target'])]"
   ]
  },
  {
   "cell_type": "code",
   "execution_count": 5,
   "id": "0c1b3f6c-9819-4372-af14-2b060a2f979f",
   "metadata": {},
   "outputs": [
    {
     "name": "stderr",
     "output_type": "stream",
     "text": [
      "2022-05-06 15:31:40,055 - distributed.preloading - INFO - Import preload module: dask_cuda.initialize\n",
      "2022-05-06 15:31:40,075 - distributed.preloading - INFO - Import preload module: dask_cuda.initialize\n",
      "2022-05-06 15:31:40,088 - distributed.preloading - INFO - Import preload module: dask_cuda.initialize\n",
      "2022-05-06 15:31:40,112 - distributed.preloading - INFO - Import preload module: dask_cuda.initialize\n"
     ]
    }
   ],
   "source": [
    "cluster = LocalCUDACluster(CUDA_VISIBLE_DEVICES=[\"GPU-a19c00c3-2832-fe38-1c43-c18db3e909da\",\n",
    "                                                 \"GPU-58b97c92-e879-49d3-85b5-1d9615f10873\",\n",
    "                                                 \"GPU-d21cfed4-2e1a-f313-839c-ea008aca027a\",\n",
    "                                                 \"GPU-e3b349d7-ac6c-77ab-3564-ed9d05d50bac\"])\n",
    "client = Client(cluster)"
   ]
  },
  {
   "cell_type": "code",
   "execution_count": 6,
   "id": "f0892c1b-36ac-4f97-bc55-094fa7a3b92e",
   "metadata": {},
   "outputs": [
    {
     "data": {
      "text/html": [
       "<div>\n",
       "<style scoped>\n",
       "    .dataframe tbody tr th:only-of-type {\n",
       "        vertical-align: middle;\n",
       "    }\n",
       "\n",
       "    .dataframe tbody tr th {\n",
       "        vertical-align: top;\n",
       "    }\n",
       "\n",
       "    .dataframe thead th {\n",
       "        text-align: right;\n",
       "    }\n",
       "</style>\n",
       "<table border=\"1\" class=\"dataframe\">\n",
       "  <thead>\n",
       "    <tr style=\"text-align: right;\">\n",
       "      <th></th>\n",
       "      <th>f0</th>\n",
       "      <th>f1</th>\n",
       "      <th>f10</th>\n",
       "      <th>f100</th>\n",
       "      <th>f101</th>\n",
       "      <th>f102</th>\n",
       "      <th>f103</th>\n",
       "      <th>f104</th>\n",
       "      <th>f105</th>\n",
       "      <th>f106</th>\n",
       "      <th>...</th>\n",
       "      <th>f90</th>\n",
       "      <th>f91</th>\n",
       "      <th>f92</th>\n",
       "      <th>f93</th>\n",
       "      <th>f94</th>\n",
       "      <th>f95</th>\n",
       "      <th>f96</th>\n",
       "      <th>f97</th>\n",
       "      <th>f98</th>\n",
       "      <th>f99</th>\n",
       "    </tr>\n",
       "  </thead>\n",
       "  <tbody>\n",
       "    <tr>\n",
       "      <th>0</th>\n",
       "      <td>-0.824626</td>\n",
       "      <td>-0.422467</td>\n",
       "      <td>0.554079</td>\n",
       "      <td>-0.856495</td>\n",
       "      <td>0.317947</td>\n",
       "      <td>-0.256859</td>\n",
       "      <td>187.144413</td>\n",
       "      <td>0.869936</td>\n",
       "      <td>-0.531424</td>\n",
       "      <td>-1.019996</td>\n",
       "      <td>...</td>\n",
       "      <td>0.352066</td>\n",
       "      <td>0.037746</td>\n",
       "      <td>0.320359</td>\n",
       "      <td>0.795707</td>\n",
       "      <td>-1.038934</td>\n",
       "      <td>-0.269760</td>\n",
       "      <td>35.650042</td>\n",
       "      <td>-0.697299</td>\n",
       "      <td>1.931045</td>\n",
       "      <td>-0.305331</td>\n",
       "    </tr>\n",
       "    <tr>\n",
       "      <th>1</th>\n",
       "      <td>-1.021557</td>\n",
       "      <td>-0.815959</td>\n",
       "      <td>-0.002685</td>\n",
       "      <td>0.022667</td>\n",
       "      <td>0.025057</td>\n",
       "      <td>-0.424646</td>\n",
       "      <td>0.506253</td>\n",
       "      <td>-0.078752</td>\n",
       "      <td>-0.018520</td>\n",
       "      <td>-0.582415</td>\n",
       "      <td>...</td>\n",
       "      <td>0.535939</td>\n",
       "      <td>0.112756</td>\n",
       "      <td>0.046762</td>\n",
       "      <td>0.161233</td>\n",
       "      <td>0.184715</td>\n",
       "      <td>-0.087651</td>\n",
       "      <td>120.244783</td>\n",
       "      <td>0.402223</td>\n",
       "      <td>-0.013730</td>\n",
       "      <td>0.513328</td>\n",
       "    </tr>\n",
       "    <tr>\n",
       "      <th>2</th>\n",
       "      <td>0.062020</td>\n",
       "      <td>-0.837565</td>\n",
       "      <td>1.121388</td>\n",
       "      <td>1.519331</td>\n",
       "      <td>0.583978</td>\n",
       "      <td>58.726697</td>\n",
       "      <td>-0.375958</td>\n",
       "      <td>-0.095803</td>\n",
       "      <td>0.522253</td>\n",
       "      <td>-0.502932</td>\n",
       "      <td>...</td>\n",
       "      <td>0.925234</td>\n",
       "      <td>0.276785</td>\n",
       "      <td>-0.599029</td>\n",
       "      <td>0.111792</td>\n",
       "      <td>0.395261</td>\n",
       "      <td>0.166551</td>\n",
       "      <td>-0.775042</td>\n",
       "      <td>0.283871</td>\n",
       "      <td>0.899296</td>\n",
       "      <td>-0.153473</td>\n",
       "    </tr>\n",
       "    <tr>\n",
       "      <th>3</th>\n",
       "      <td>0.514858</td>\n",
       "      <td>0.488789</td>\n",
       "      <td>-0.473529</td>\n",
       "      <td>0.352311</td>\n",
       "      <td>-0.917443</td>\n",
       "      <td>-0.783741</td>\n",
       "      <td>-0.871722</td>\n",
       "      <td>-0.082538</td>\n",
       "      <td>0.489024</td>\n",
       "      <td>-0.012730</td>\n",
       "      <td>...</td>\n",
       "      <td>-0.277384</td>\n",
       "      <td>-1.389723</td>\n",
       "      <td>1.848743</td>\n",
       "      <td>1.228182</td>\n",
       "      <td>74.222184</td>\n",
       "      <td>-0.444784</td>\n",
       "      <td>-0.360392</td>\n",
       "      <td>-0.765911</td>\n",
       "      <td>-0.043319</td>\n",
       "      <td>34.474152</td>\n",
       "    </tr>\n",
       "    <tr>\n",
       "      <th>4</th>\n",
       "      <td>-0.875484</td>\n",
       "      <td>1.092204</td>\n",
       "      <td>-0.547237</td>\n",
       "      <td>1.015510</td>\n",
       "      <td>2.688259</td>\n",
       "      <td>-0.873262</td>\n",
       "      <td>0.550222</td>\n",
       "      <td>2.858554</td>\n",
       "      <td>-0.496966</td>\n",
       "      <td>-0.920987</td>\n",
       "      <td>...</td>\n",
       "      <td>0.175718</td>\n",
       "      <td>-2.240798</td>\n",
       "      <td>0.863892</td>\n",
       "      <td>0.613538</td>\n",
       "      <td>-0.279954</td>\n",
       "      <td>54.065426</td>\n",
       "      <td>24.236644</td>\n",
       "      <td>0.426447</td>\n",
       "      <td>0.991493</td>\n",
       "      <td>-0.895396</td>\n",
       "    </tr>\n",
       "  </tbody>\n",
       "</table>\n",
       "<p>5 rows × 285 columns</p>\n",
       "</div>"
      ],
      "text/plain": [
       "         f0        f1       f10      f100      f101       f102        f103  \\\n",
       "0 -0.824626 -0.422467  0.554079 -0.856495  0.317947  -0.256859  187.144413   \n",
       "1 -1.021557 -0.815959 -0.002685  0.022667  0.025057  -0.424646    0.506253   \n",
       "2  0.062020 -0.837565  1.121388  1.519331  0.583978  58.726697   -0.375958   \n",
       "3  0.514858  0.488789 -0.473529  0.352311 -0.917443  -0.783741   -0.871722   \n",
       "4 -0.875484  1.092204 -0.547237  1.015510  2.688259  -0.873262    0.550222   \n",
       "\n",
       "       f104      f105      f106  ...       f90       f91       f92       f93  \\\n",
       "0  0.869936 -0.531424 -1.019996  ...  0.352066  0.037746  0.320359  0.795707   \n",
       "1 -0.078752 -0.018520 -0.582415  ...  0.535939  0.112756  0.046762  0.161233   \n",
       "2 -0.095803  0.522253 -0.502932  ...  0.925234  0.276785 -0.599029  0.111792   \n",
       "3 -0.082538  0.489024 -0.012730  ... -0.277384 -1.389723  1.848743  1.228182   \n",
       "4  2.858554 -0.496966 -0.920987  ...  0.175718 -2.240798  0.863892  0.613538   \n",
       "\n",
       "         f94        f95         f96       f97       f98        f99  \n",
       "0  -1.038934  -0.269760   35.650042 -0.697299  1.931045  -0.305331  \n",
       "1   0.184715  -0.087651  120.244783  0.402223 -0.013730   0.513328  \n",
       "2   0.395261   0.166551   -0.775042  0.283871  0.899296  -0.153473  \n",
       "3  74.222184  -0.444784   -0.360392 -0.765911 -0.043319  34.474152  \n",
       "4  -0.279954  54.065426   24.236644  0.426447  0.991493  -0.895396  \n",
       "\n",
       "[5 rows x 285 columns]"
      ]
     },
     "execution_count": 6,
     "metadata": {},
     "output_type": "execute_result"
    }
   ],
   "source": [
    "train_x.head()"
   ]
  },
  {
   "cell_type": "code",
   "execution_count": 7,
   "id": "f38889d0-bb63-4b18-b60f-134782ad0dba",
   "metadata": {},
   "outputs": [],
   "source": [
    "dtrain = xgb.dask.DaskDMatrix(client, train_x, train_y)\n",
    "dtest = xgb.dask.DaskDMatrix(client, test_x, test_y)\n",
    "num_round = 1000"
   ]
  },
  {
   "cell_type": "code",
   "execution_count": 8,
   "id": "3bd243bb-9fb7-4c21-85b4-0bd4d9087493",
   "metadata": {},
   "outputs": [],
   "source": [
    "def objective(trial):\n",
    "        \n",
    "    params = {\n",
    "        'objective': trial.suggest_categorical('objective',['binary:logistic']), \n",
    "        'tree_method': trial.suggest_categorical('tree_method',['gpu_hist']),  # 'gpu_hist','hist'\n",
    "        'lambda': trial.suggest_loguniform('lambda',1e-3,10.0),\n",
    "        'alpha': trial.suggest_loguniform('alpha',1e-3,10.0),\n",
    "        'colsample_bytree': trial.suggest_uniform('colsample_bytree', 0.3,1.0),\n",
    "        'subsample': trial.suggest_uniform('subsample', 0.4, 1.0),\n",
    "        'learning_rate': trial.suggest_loguniform('learning_rate', 0.001,0.1),\n",
    "        #'n_estimators': trial.suggest_categorical('n_estimators', [1000]),\n",
    "        'max_depth': trial.suggest_categorical('max_depth', [3,5,7,9,11,13,15,17,20]),\n",
    "        #'random_state': trial.suggest_categorical('random_state', [24,48,2020]),\n",
    "        'min_child_weight': trial.suggest_int('min_child_weight', 1,300),\n",
    "        'eval_metric': trial.suggest_categorical('eval_metric',['logloss']),\n",
    "\n",
    "    }\n",
    "\n",
    "    output = xgb.dask.train(client, params, dtrain, num_round)\n",
    "    \n",
    "    booster = output['booster']  # booster is the trained model\n",
    "    booster.set_param({'predictor': 'gpu_predictor'})\n",
    "\n",
    "    predictions = xgb.dask.predict(client, booster, dtest)\n",
    "    \n",
    "    predictions = predictions.compute()\n",
    "\n",
    "    roc = roc_auc_score(test_y, predictions)\n",
    "    \n",
    "    return roc"
   ]
  },
  {
   "cell_type": "code",
   "execution_count": 9,
   "id": "b1902504-1c84-46b5-9a47-5465790f5a8c",
   "metadata": {},
   "outputs": [
    {
     "name": "stderr",
     "output_type": "stream",
     "text": [
      "\u001b[32m[I 2022-05-06 15:32:49,969]\u001b[0m A new study created in memory with name: no-name-e4f88b99-f88c-4d32-9f30-eb5b20a4cf5b\u001b[0m\n"
     ]
    }
   ],
   "source": [
    "study = optuna.create_study(direction='maximize')"
   ]
  },
  {
   "cell_type": "code",
   "execution_count": 11,
   "id": "72920226-0668-4477-af1e-10baf1de43f2",
   "metadata": {},
   "outputs": [
    {
     "name": "stderr",
     "output_type": "stream",
     "text": [
      "[15:33:16] task [xgboost.dask]:tcp://127.0.0.1:38933 got new rank 0\n",
      "[15:33:16] task [xgboost.dask]:tcp://127.0.0.1:40841 got new rank 1\n",
      "[15:33:16] task [xgboost.dask]:tcp://127.0.0.1:44275 got new rank 2\n",
      "[15:33:16] task [xgboost.dask]:tcp://127.0.0.1:39297 got new rank 3\n",
      "\u001b[32m[I 2022-05-06 15:35:35,090]\u001b[0m Trial 0 finished with value: 0.8557663987624522 and parameters: {'objective': 'binary:logistic', 'tree_method': 'gpu_hist', 'lambda': 4.69585995721641, 'alpha': 2.984940515866779, 'colsample_bytree': 0.4270608818086083, 'subsample': 0.7416502715788436, 'learning_rate': 0.01280395218181446, 'max_depth': 17, 'min_child_weight': 173, 'eval_metric': 'logloss'}. Best is trial 0 with value: 0.8557663987624522.\u001b[0m\n",
      "[15:35:35] task [xgboost.dask]:tcp://127.0.0.1:38933 got new rank 0\n",
      "[15:35:35] task [xgboost.dask]:tcp://127.0.0.1:44275 got new rank 1\n",
      "[15:35:35] task [xgboost.dask]:tcp://127.0.0.1:39297 got new rank 2\n",
      "[15:35:35] task [xgboost.dask]:tcp://127.0.0.1:40841 got new rank 3\n",
      "\u001b[32m[I 2022-05-06 15:36:03,994]\u001b[0m Trial 1 finished with value: 0.8562849312212153 and parameters: {'objective': 'binary:logistic', 'tree_method': 'gpu_hist', 'lambda': 0.039750918284417146, 'alpha': 0.010197844372525099, 'colsample_bytree': 0.820142729018271, 'subsample': 0.41243011327713086, 'learning_rate': 0.03323898998269076, 'max_depth': 7, 'min_child_weight': 60, 'eval_metric': 'logloss'}. Best is trial 1 with value: 0.8562849312212153.\u001b[0m\n"
     ]
    },
    {
     "name": "stdout",
     "output_type": "stream",
     "text": [
      "CPU times: user 16.2 s, sys: 5.89 s, total: 22.1 s\n",
      "Wall time: 2min 48s\n"
     ]
    }
   ],
   "source": [
    "%%time\n",
    "study.optimize(objective, n_trials=2)"
   ]
  },
  {
   "cell_type": "code",
   "execution_count": 12,
   "id": "d2e02137-2cf2-4259-bb91-c17566e4ac4b",
   "metadata": {},
   "outputs": [
    {
     "name": "stderr",
     "output_type": "stream",
     "text": [
      "[15:36:04] task [xgboost.dask]:tcp://127.0.0.1:38933 got new rank 0\n",
      "[15:36:04] task [xgboost.dask]:tcp://127.0.0.1:44275 got new rank 1\n",
      "[15:36:04] task [xgboost.dask]:tcp://127.0.0.1:40841 got new rank 2\n",
      "[15:36:04] task [xgboost.dask]:tcp://127.0.0.1:39297 got new rank 3\n",
      "\u001b[32m[I 2022-05-06 15:36:34,394]\u001b[0m Trial 2 finished with value: 0.8435712365063539 and parameters: {'objective': 'binary:logistic', 'tree_method': 'gpu_hist', 'lambda': 0.0023695358718639785, 'alpha': 0.16697050273216607, 'colsample_bytree': 0.3823118666536898, 'subsample': 0.8606198401945112, 'learning_rate': 0.001056716413000844, 'max_depth': 7, 'min_child_weight': 204, 'eval_metric': 'logloss'}. Best is trial 1 with value: 0.8562849312212153.\u001b[0m\n",
      "[15:36:34] task [xgboost.dask]:tcp://127.0.0.1:38933 got new rank 0\n",
      "[15:36:34] task [xgboost.dask]:tcp://127.0.0.1:39297 got new rank 1\n",
      "[15:36:34] task [xgboost.dask]:tcp://127.0.0.1:44275 got new rank 2\n",
      "[15:36:34] task [xgboost.dask]:tcp://127.0.0.1:40841 got new rank 3\n",
      "\u001b[32m[I 2022-05-06 15:36:47,314]\u001b[0m Trial 3 finished with value: 0.854783971995849 and parameters: {'objective': 'binary:logistic', 'tree_method': 'gpu_hist', 'lambda': 0.0028083943747914696, 'alpha': 0.2092177237878467, 'colsample_bytree': 0.7341340253967785, 'subsample': 0.8305304983034419, 'learning_rate': 0.043681120798983765, 'max_depth': 3, 'min_child_weight': 115, 'eval_metric': 'logloss'}. Best is trial 1 with value: 0.8562849312212153.\u001b[0m\n",
      "[15:36:47] task [xgboost.dask]:tcp://127.0.0.1:38933 got new rank 0\n",
      "[15:36:47] task [xgboost.dask]:tcp://127.0.0.1:44275 got new rank 1\n",
      "[15:36:47] task [xgboost.dask]:tcp://127.0.0.1:39297 got new rank 2\n",
      "[15:36:47] task [xgboost.dask]:tcp://127.0.0.1:40841 got new rank 3\n",
      "\u001b[32m[I 2022-05-06 15:37:04,489]\u001b[0m Trial 4 finished with value: 0.8565547891757759 and parameters: {'objective': 'binary:logistic', 'tree_method': 'gpu_hist', 'lambda': 0.5995229662561159, 'alpha': 0.8862018751325971, 'colsample_bytree': 0.7198012075447702, 'subsample': 0.8716335513960842, 'learning_rate': 0.04244543793174767, 'max_depth': 5, 'min_child_weight': 168, 'eval_metric': 'logloss'}. Best is trial 4 with value: 0.8565547891757759.\u001b[0m\n",
      "[15:37:04] task [xgboost.dask]:tcp://127.0.0.1:38933 got new rank 0\n",
      "[15:37:04] task [xgboost.dask]:tcp://127.0.0.1:39297 got new rank 1\n",
      "[15:37:04] task [xgboost.dask]:tcp://127.0.0.1:40841 got new rank 2\n",
      "[15:37:04] task [xgboost.dask]:tcp://127.0.0.1:44275 got new rank 3\n",
      "\u001b[32m[I 2022-05-06 15:37:22,092]\u001b[0m Trial 5 finished with value: 0.8556701962608262 and parameters: {'objective': 'binary:logistic', 'tree_method': 'gpu_hist', 'lambda': 7.485954123791054, 'alpha': 7.831223800901969, 'colsample_bytree': 0.897220463886446, 'subsample': 0.7866895558910507, 'learning_rate': 0.0299663761316496, 'max_depth': 5, 'min_child_weight': 73, 'eval_metric': 'logloss'}. Best is trial 4 with value: 0.8565547891757759.\u001b[0m\n",
      "[15:37:22] task [xgboost.dask]:tcp://127.0.0.1:44275 got new rank 0\n",
      "[15:37:22] task [xgboost.dask]:tcp://127.0.0.1:38933 got new rank 1\n",
      "[15:37:22] task [xgboost.dask]:tcp://127.0.0.1:40841 got new rank 2\n",
      "[15:37:22] task [xgboost.dask]:tcp://127.0.0.1:39297 got new rank 3\n",
      "\u001b[32m[I 2022-05-06 15:38:08,794]\u001b[0m Trial 6 finished with value: 0.8564724376743842 and parameters: {'objective': 'binary:logistic', 'tree_method': 'gpu_hist', 'lambda': 0.0015860232190362301, 'alpha': 0.30943257019410997, 'colsample_bytree': 0.737477272671883, 'subsample': 0.8288974047336621, 'learning_rate': 0.028970286477547454, 'max_depth': 9, 'min_child_weight': 212, 'eval_metric': 'logloss'}. Best is trial 4 with value: 0.8565547891757759.\u001b[0m\n"
     ]
    },
    {
     "name": "stdout",
     "output_type": "stream",
     "text": [
      "CPU times: user 9.5 s, sys: 1.27 s, total: 10.8 s\n",
      "Wall time: 2min 4s\n"
     ]
    },
    {
     "name": "stderr",
     "output_type": "stream",
     "text": [
      "/home/tunguz/.local/lib/python3.8/site-packages/dask_cuda/initialize.py:57: UserWarning: Worker with process ID 1150465 should have a CUDA context assigned to device GPU-a19c00c3-2832-fe38-1c43-c18db3e909da, but instead the CUDA context is on device 0. This is often the result of a CUDA-enabled library calling a CUDA runtime function before Dask-CUDA can spawn worker processes. Please make sure any such function calls don't happen at import time or in the global scope of a program.\n",
      "  warnings.warn(\n",
      "/home/tunguz/.local/lib/python3.8/site-packages/dask_cuda/initialize.py:57: UserWarning: Worker with process ID 1150462 should have a CUDA context assigned to device GPU-58b97c92-e879-49d3-85b5-1d9615f10873, but instead the CUDA context is on device 1. This is often the result of a CUDA-enabled library calling a CUDA runtime function before Dask-CUDA can spawn worker processes. Please make sure any such function calls don't happen at import time or in the global scope of a program.\n",
      "  warnings.warn(\n",
      "/home/tunguz/.local/lib/python3.8/site-packages/dask_cuda/initialize.py:57: UserWarning: Worker with process ID 1150467 should have a CUDA context assigned to device GPU-d21cfed4-2e1a-f313-839c-ea008aca027a, but instead the CUDA context is on device 2. This is often the result of a CUDA-enabled library calling a CUDA runtime function before Dask-CUDA can spawn worker processes. Please make sure any such function calls don't happen at import time or in the global scope of a program.\n",
      "  warnings.warn(\n",
      "/home/tunguz/.local/lib/python3.8/site-packages/dask_cuda/initialize.py:57: UserWarning: Worker with process ID 1150459 should have a CUDA context assigned to device GPU-e3b349d7-ac6c-77ab-3564-ed9d05d50bac, but instead the CUDA context is on device 4. This is often the result of a CUDA-enabled library calling a CUDA runtime function before Dask-CUDA can spawn worker processes. Please make sure any such function calls don't happen at import time or in the global scope of a program.\n",
      "  warnings.warn(\n"
     ]
    }
   ],
   "source": [
    "%%time\n",
    "study.optimize(objective, n_trials=5)"
   ]
  },
  {
   "cell_type": "code",
   "execution_count": null,
   "id": "7cd1e14d-de63-4e9f-85ee-7b240afa4491",
   "metadata": {},
   "outputs": [],
   "source": []
  }
 ],
 "metadata": {
  "kernelspec": {
   "display_name": "Python 3 (ipykernel)",
   "language": "python",
   "name": "python3"
  },
  "language_info": {
   "codemirror_mode": {
    "name": "ipython",
    "version": 3
   },
   "file_extension": ".py",
   "mimetype": "text/x-python",
   "name": "python",
   "nbconvert_exporter": "python",
   "pygments_lexer": "ipython3",
   "version": "3.8.10"
  }
 },
 "nbformat": 4,
 "nbformat_minor": 5
}
